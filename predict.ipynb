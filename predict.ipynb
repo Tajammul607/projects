{
  "nbformat": 4,
  "nbformat_minor": 0,
  "metadata": {
    "colab": {
      "name": "predict",
      "provenance": []
    },
    "kernelspec": {
      "name": "python3",
      "display_name": "Python 3"
    },
    "language_info": {
      "name": "python"
    }
  },
  "cells": [
    {
      "cell_type": "code",
      "metadata": {
        "id": "d8pMRCTV3tom"
      },
      "source": [
        "import pandas as pd\n",
        "import numpy as np\n",
        "import matplotlib.pyplot as plt\n",
        "\n",
        "import seaborn as sns\n",
        "import plotly\n",
        "import plotly.express as px# express is wrapper of plotly cox its as simple syntax to vitualize the data\n",
        "\n",
        "import plotly.offline as pyo\n",
        "from plotly.offline import init_notebook_mode,plot,iplot\n",
        "\n",
        "import cufflinks as cf # cufflinks is used to binds the pandas an plotly together\n"
      ],
      "execution_count": 1,
      "outputs": []
    },
    {
      "cell_type": "code",
      "metadata": {
        "colab": {
          "base_uri": "https://localhost:8080/",
          "height": 17
        },
        "id": "0xGIOEfU5fu5",
        "outputId": "4270a1b3-5857-4090-9075-d0a145773608"
      },
      "source": [
        "pyo.init_notebook_mode(connected=True)\n",
        "cf.go_offline()"
      ],
      "execution_count": 2,
      "outputs": [
        {
          "output_type": "display_data",
          "data": {
            "text/html": [
              "        <script type=\"text/javascript\">\n",
              "        window.PlotlyConfig = {MathJaxConfig: 'local'};\n",
              "        if (window.MathJax) {MathJax.Hub.Config({SVG: {font: \"STIX-Web\"}});}\n",
              "        if (typeof require !== 'undefined') {\n",
              "        require.undef(\"plotly\");\n",
              "        requirejs.config({\n",
              "            paths: {\n",
              "                'plotly': ['https://cdn.plot.ly/plotly-latest.min']\n",
              "            }\n",
              "        });\n",
              "        require(['plotly'], function(Plotly) {\n",
              "            window._Plotly = Plotly;\n",
              "        });\n",
              "        }\n",
              "        </script>\n",
              "        "
            ]
          },
          "metadata": {}
        },
        {
          "output_type": "display_data",
          "data": {
            "text/html": [
              "        <script type=\"text/javascript\">\n",
              "        window.PlotlyConfig = {MathJaxConfig: 'local'};\n",
              "        if (window.MathJax) {MathJax.Hub.Config({SVG: {font: \"STIX-Web\"}});}\n",
              "        if (typeof require !== 'undefined') {\n",
              "        require.undef(\"plotly\");\n",
              "        requirejs.config({\n",
              "            paths: {\n",
              "                'plotly': ['https://cdn.plot.ly/plotly-latest.min']\n",
              "            }\n",
              "        });\n",
              "        require(['plotly'], function(Plotly) {\n",
              "            window._Plotly = Plotly;\n",
              "        });\n",
              "        }\n",
              "        </script>\n",
              "        "
            ]
          },
          "metadata": {}
        }
      ]
    },
    {
      "cell_type": "code",
      "metadata": {
        "id": "4UPB7FUq5_s_"
      },
      "source": [
        "df = pd.read_csv('/content/dataset.csv')"
      ],
      "execution_count": 3,
      "outputs": []
    },
    {
      "cell_type": "code",
      "metadata": {
        "id": "wOBjIn5K6RgB"
      },
      "source": [
        "df"
      ],
      "execution_count": null,
      "outputs": []
    },
    {
      "cell_type": "code",
      "metadata": {
        "id": "ppDwF1056YL_"
      },
      "source": [
        "df.info()"
      ],
      "execution_count": null,
      "outputs": []
    },
    {
      "cell_type": "code",
      "metadata": {
        "colab": {
          "base_uri": "https://localhost:8080/"
        },
        "id": "LHfrQlkR6qkD",
        "outputId": "0029969e-0f79-4434-9b39-82a91662ceb6"
      },
      "source": [
        "df[\"target\"]"
      ],
      "execution_count": 6,
      "outputs": [
        {
          "output_type": "execute_result",
          "data": {
            "text/plain": [
              "0      1\n",
              "1      1\n",
              "2      1\n",
              "3      1\n",
              "4      1\n",
              "      ..\n",
              "298    0\n",
              "299    0\n",
              "300    0\n",
              "301    0\n",
              "302    0\n",
              "Name: target, Length: 303, dtype: int64"
            ]
          },
          "metadata": {},
          "execution_count": 6
        }
      ]
    },
    {
      "cell_type": "code",
      "metadata": {
        "id": "mN1QoLyt668M"
      },
      "source": [
        "df.groupby(\"target\").size()# groupby() is used for separating the values "
      ],
      "execution_count": null,
      "outputs": []
    },
    {
      "cell_type": "code",
      "metadata": {
        "id": "1qN5TrNN7HTE"
      },
      "source": [
        "df.shape"
      ],
      "execution_count": null,
      "outputs": []
    },
    {
      "cell_type": "code",
      "metadata": {
        "id": "8g1DeFkW7Y0x"
      },
      "source": [
        "df.size"
      ],
      "execution_count": null,
      "outputs": []
    },
    {
      "cell_type": "code",
      "metadata": {
        "id": "9I2mDO_K7gvR"
      },
      "source": [
        "df.describe()"
      ],
      "execution_count": null,
      "outputs": []
    },
    {
      "cell_type": "markdown",
      "metadata": {
        "id": "wGkbCK4M8SD-"
      },
      "source": [
        "Vitualization"
      ]
    },
    {
      "cell_type": "code",
      "metadata": {
        "id": "XOtKVneF7mol"
      },
      "source": [
        "df.hist(figsize=(14,14))#this runs pandas built in () but it runs on matplotlib\n",
        "# plt.grid(False)\n",
        "plt.show()\n"
      ],
      "execution_count": null,
      "outputs": []
    },
    {
      "cell_type": "code",
      "metadata": {
        "id": "1krXSFX-8h-D"
      },
      "source": [
        "sns.barplot(df[\"sex\"],df[\"target\"])\n",
        "plt.show()"
      ],
      "execution_count": null,
      "outputs": []
    },
    {
      "cell_type": "code",
      "metadata": {
        "id": "61ShQg2G-CCo"
      },
      "source": [
        "sns.barplot(df[\"sex\"],df[\"age\"],hue=df[\"target\"])#hue is used for colors\n",
        "plt.show()"
      ],
      "execution_count": null,
      "outputs": []
    },
    {
      "cell_type": "code",
      "metadata": {
        "id": "T3iHtpEg-8mR"
      },
      "source": [
        "px.bar(df,df[\"sex\"],df[\"target\"])# when we hover on the bar its  show the specific value "
      ],
      "execution_count": null,
      "outputs": []
    },
    {
      "cell_type": "code",
      "metadata": {
        "id": "q1JcMKzo_Lrx"
      },
      "source": [
        "numeric_col = [\"trestbps\",\"chol\",\"age\",\"oldpeak\",\"thalach\"]"
      ],
      "execution_count": 15,
      "outputs": []
    },
    {
      "cell_type": "code",
      "metadata": {
        "id": "T7rzJ1aPBjmi"
      },
      "source": [
        "sns.heatmap(df[numeric_col].corr(),annot= True,cmap ='terrain',linewidths=0.1)\n",
        "fig = plt.gcf()#gct is used for cell size inches\n",
        "fig.set_size_inches(8,6)\n",
        "plt.show()"
      ],
      "execution_count": null,
      "outputs": []
    },
    {
      "cell_type": "code",
      "metadata": {
        "id": "ffh23x3WCjVx"
      },
      "source": [
        "#create four displots\n",
        "plt.figure(figsize=(10,8))\n",
        "plt.subplot(221)\n",
        "sns.distplot(df[df['target']==0].age)\n",
        "plt.title(\"Age of Patients who doesn't have heart disease    \")\n",
        "\n",
        "plt.subplot(222)\n",
        "sns.distplot(df[df['target']==1].age)\n",
        "plt.title(\"Age of Patients who does have heart disease        \")\n",
        "\n",
        "plt.subplot(223)\n",
        "sns.distplot(df[df['target']==0].thalach)\n",
        "plt.title(\"Max heart rate of the patients without heart disease    \")\n",
        "\n",
        "plt.subplot(224)\n",
        "sns.distplot(df[df['target']==1].thalach)\n",
        "plt.title(\"Max heart rate of the patients with heart disease     \")\n",
        "plt.show()"
      ],
      "execution_count": null,
      "outputs": []
    },
    {
      "cell_type": "code",
      "metadata": {
        "id": "cHMOwU_0Eztb"
      },
      "source": [
        "X,Y = df.loc[:,:\"thal\"],df['target']"
      ],
      "execution_count": 17,
      "outputs": []
    },
    {
      "cell_type": "code",
      "metadata": {
        "id": "kvjL5V0yH7iz"
      },
      "source": [
        "print(X)"
      ],
      "execution_count": null,
      "outputs": []
    },
    {
      "cell_type": "code",
      "metadata": {
        "id": "RN_reyyDH-D4"
      },
      "source": [
        "print(Y)"
      ],
      "execution_count": null,
      "outputs": []
    },
    {
      "cell_type": "code",
      "metadata": {
        "id": "Bo0M5WUUIAoQ"
      },
      "source": [
        "X.shape"
      ],
      "execution_count": null,
      "outputs": []
    },
    {
      "cell_type": "code",
      "metadata": {
        "id": "W51R9ZVFIHE7"
      },
      "source": [
        "Y.shape"
      ],
      "execution_count": null,
      "outputs": []
    },
    {
      "cell_type": "code",
      "metadata": {
        "id": "v7FF2yVsIJM-"
      },
      "source": [
        "X.size"
      ],
      "execution_count": null,
      "outputs": []
    },
    {
      "cell_type": "code",
      "metadata": {
        "id": "pphuFRtOIXVM"
      },
      "source": [
        "from sklearn.model_selection import train_test_split"
      ],
      "execution_count": 23,
      "outputs": []
    },
    {
      "cell_type": "code",
      "metadata": {
        "id": "0r7YQ05LIhYe"
      },
      "source": [
        "X_train,X_test,Y_train,Y_test = train_test_split(X,Y,random_state=10,test_size =0.3,shuffle = True)"
      ],
      "execution_count": 24,
      "outputs": []
    },
    {
      "cell_type": "code",
      "metadata": {
        "id": "4DA_mEYqJWOL"
      },
      "source": [
        "X_train.shape"
      ],
      "execution_count": null,
      "outputs": []
    },
    {
      "cell_type": "code",
      "metadata": {
        "id": "t5YvnkIdJbwq"
      },
      "source": [
        "X_test.shape"
      ],
      "execution_count": null,
      "outputs": []
    },
    {
      "cell_type": "code",
      "metadata": {
        "id": "5lWAJxuiJrms"
      },
      "source": [
        "Y_train"
      ],
      "execution_count": null,
      "outputs": []
    },
    {
      "cell_type": "code",
      "metadata": {
        "id": "uN_dv6nSJ9Mc"
      },
      "source": [
        "Y_test"
      ],
      "execution_count": null,
      "outputs": []
    },
    {
      "cell_type": "code",
      "metadata": {
        "id": "4h5M9qJ-J_7h"
      },
      "source": [
        "Y_train.size , Y_test.size"
      ],
      "execution_count": null,
      "outputs": []
    },
    {
      "cell_type": "code",
      "metadata": {
        "id": "H3vqKH8rUXh4"
      },
      "source": [
        ""
      ],
      "execution_count": null,
      "outputs": []
    },
    {
      "cell_type": "markdown",
      "metadata": {
        "id": "lJmyXfV1LdjT"
      },
      "source": [
        "Desision Tree Classifier"
      ]
    },
    {
      "cell_type": "code",
      "metadata": {
        "id": "fZv_NQEOKD3e"
      },
      "source": [
        "from sklearn.tree import DecisionTreeClassifier #its used for both classification  an regression\n",
        "from sklearn.metrics import accuracy_score\n",
        " \n",
        "model = DecisionTreeClassifier()\n",
        "# model = DecisionTreeClassifier(max_depth=3)\n",
        "\n",
        "model.fit(X_train,Y_train)#fit(do the training , with the label(Y_train))"
      ],
      "execution_count": null,
      "outputs": []
    },
    {
      "cell_type": "code",
      "metadata": {
        "id": "bgWboUpqMOwZ"
      },
      "source": [
        "prediction =model.predict(X_test)"
      ],
      "execution_count": 33,
      "outputs": []
    },
    {
      "cell_type": "code",
      "metadata": {
        "id": "1YqUT0pQMrlt"
      },
      "source": [
        "prediction"
      ],
      "execution_count": null,
      "outputs": []
    },
    {
      "cell_type": "code",
      "metadata": {
        "id": "GrFOIWHzNg4I"
      },
      "source": [
        "accuracy_model=accuracy_score(Y_test,prediction)*100"
      ],
      "execution_count": 35,
      "outputs": []
    },
    {
      "cell_type": "code",
      "metadata": {
        "id": "kg9LwMyqNrYQ"
      },
      "source": [
        "accuracy_model"
      ],
      "execution_count": null,
      "outputs": []
    },
    {
      "cell_type": "code",
      "metadata": {
        "id": "B80x2SZbPfyX"
      },
      "source": [
        "model.feature_importances_#its gives what data is imp"
      ],
      "execution_count": null,
      "outputs": []
    },
    {
      "cell_type": "code",
      "metadata": {
        "id": "h_qSNPdeRcEl"
      },
      "source": [
        "def plot_feature_importance(model):\n",
        "  plt.figure(figsize=(8,6))\n",
        "  num_features =13\n",
        "  plt.barh(range(num_features),model.feature_importances_,align=\"center\")\n",
        "  plt.yticks(np.arange(num_features),X)\n",
        "  plt.xlabel(\"Features Importance\")\n",
        "  plt.ylabel(\"Features\")\n",
        "  plt.ylim(-1,num_features)\n",
        "\n",
        "\n",
        "plot_feature_importance(model)  "
      ],
      "execution_count": null,
      "outputs": []
    },
    {
      "cell_type": "code",
      "metadata": {
        "id": "4I_0eZE5SHxN"
      },
      "source": [
        "input_data = (44,\t1\t,1,\t120,\t263,\t0,\t1,\t173,\t0,\t0,\t2,\t0,\t3)\n",
        "input_data_as_numpy_array = np.asarray(input_data)\n",
        "#reshape the numpy aaray as we are predicting for one instance\n",
        "\n",
        "reshape_input_data = input_data_as_numpy_array.reshape(1,-1)\n",
        "\n",
        "prediction = model.predict(reshape_input_data)\n",
        "\n",
        "print(prediction)\n",
        "\n",
        "if (prediction[0]==0):\n",
        "  print('The person doesn`t have Heart Disease')\n",
        "else:\n",
        "  print('The Person has Heart Disease')  "
      ],
      "execution_count": null,
      "outputs": []
    },
    {
      "cell_type": "code",
      "metadata": {
        "id": "9wsYcQ6VZixG"
      },
      "source": [
        "from sklearn.neighbors import KNeighborsClassifier\n",
        "\n",
        "knn = KNeighborsClassifier()\n",
        "knn.fit(X_train,Y_train)"
      ],
      "execution_count": null,
      "outputs": []
    },
    {
      "cell_type": "code",
      "metadata": {
        "id": "3oLv43SndQU9"
      },
      "source": [
        "prediction_knn = knn.predict(X_test)"
      ],
      "execution_count": 61,
      "outputs": []
    },
    {
      "cell_type": "code",
      "metadata": {
        "id": "URzbsGJFdZC7"
      },
      "source": [
        "accuracy_knn =accuracy_score(Y_test,prediction_knn)*100"
      ],
      "execution_count": 63,
      "outputs": []
    },
    {
      "cell_type": "code",
      "metadata": {
        "id": "uiv6HoFK5TrC"
      },
      "source": [
        "accuracy_knn"
      ],
      "execution_count": null,
      "outputs": []
    },
    {
      "cell_type": "code",
      "metadata": {
        "id": "WVQ79L1a7-ff"
      },
      "source": [
        ""
      ],
      "execution_count": null,
      "outputs": []
    }
  ]
}